{
 "cells": [
  {
   "cell_type": "code",
   "execution_count": 2,
   "metadata": {},
   "outputs": [],
   "source": [
    "%matplotlib inline\n",
    "from bs4 import BeautifulSoup\n",
    "import requests\n",
    "import pandas as pd\n",
    "import numpy as np\n",
    "import scipy.stats as ss\n",
    "import matplotlib.pyplot as plt\n",
    "import seaborn as sns\n",
    "\n"
   ]
  },
  {
   "cell_type": "code",
   "execution_count": 3,
   "metadata": {},
   "outputs": [],
   "source": [
    "def getDraftees():\n",
    "    # get initial page\n",
    "    url = \"https://www.basketball-reference.com/play-index/draft_finder.cgi?request=1&year_min=1989&college_id=0&pos_is_g=Y&pos_is_gf=Y&pos_is_f=Y&pos_is_fg=Y&pos_is_fc=Y&pos_is_c=Y&pos_is_cf=Y&order_by=year_id\"\n",
    "    r = requests.get(url).text\n",
    "    soup = BeautifulSoup(r, 'lxml')\n",
    "    \n",
    "    # scrape headers\n",
    "    headers = soup.find(id=\"stats\").find('thead').find_all('tr')[1:]\n",
    "    colNames = []\n",
    "    for h in headers:\n",
    "        cols = h.find_all('th')\n",
    "        for c in cols:\n",
    "            colNames.append(c.get_text())\n",
    "    colNames = colNames[1:]\n",
    "    # scrape individual rows\n",
    "    rows = soup.find(id=\"stats\").find('tbody').find_all('tr')\n",
    "    stats = []\n",
    "    for r in rows:\n",
    "        statsoup = r.find_all('td')\n",
    "        statRow = []\n",
    "        for stat in statsoup:\n",
    "            statRow.append(stat.get_text())\n",
    "        stats.append(statRow)\n",
    "    \n",
    "    # scrape the remaining pages getting only data rows\n",
    "    for offset in range(100, 1700, 100):\n",
    "        offsetURL = \"https://www.basketball-reference.com/play-index/draft_finder.cgi?request=1&year_min=1989&year_max=&round_min=&round_max=&pick_overall_min=&pick_overall_max=&franch_id=&college_id=0&is_active=&is_hof=&pos_is_g=Y&pos_is_gf=Y&pos_is_f=Y&pos_is_fg=Y&pos_is_fc=Y&pos_is_c=Y&pos_is_cf=Y&c1stat=&c1comp=&c1val=&c2stat=&c2comp=&c2val=&c3stat=&c3comp=&c3val=&c4stat=&c4comp=&c4val=&order_by=year_id&order_by_asc=&offset=%d\" % (offset)\n",
    "        offsetR = requests.get(offsetURL).text\n",
    "        soup = BeautifulSoup(offsetR, 'lxml')\n",
    "        rows = soup.find(id=\"stats\").find('tbody').find_all('tr')\n",
    "        for r in rows:\n",
    "            statsoup = r.find_all('td')\n",
    "            statRow = []\n",
    "            for stat in statsoup:\n",
    "                statRow.append(stat.get_text())\n",
    "            stats.append(statRow)\n",
    "        \n",
    "    draftDF = pd.DataFrame(stats, columns = colNames)\n",
    "    draftDF = draftDF.apply(pd.to_numeric, errors = 'ignore')\n",
    "    return draftDF\n",
    "\n",
    "# draft = getDraftees()\n",
    "\n"
   ]
  },
  {
   "cell_type": "code",
   "execution_count": 4,
   "metadata": {},
   "outputs": [
    {
     "name": "stdout",
     "output_type": "stream",
     "text": [
      "(1818, 25)\n",
      "(1682, 25)\n"
     ]
    }
   ],
   "source": [
    "print(draft.shape)\n",
    "draftdf = draft[np.isfinite(draft['Year'])]\n",
    "print (draftdf.shape)"
   ]
  },
  {
   "cell_type": "code",
   "execution_count": 6,
   "metadata": {},
   "outputs": [
    {
     "name": "stderr",
     "output_type": "stream",
     "text": [
      "/anaconda3/lib/python3.6/site-packages/pandas/core/frame.py:2540: SettingWithCopyWarning: \n",
      "A value is trying to be set on a copy of a slice from a DataFrame.\n",
      "Try using .loc[row_indexer,col_indexer] = value instead\n",
      "\n",
      "See the caveats in the documentation: http://pandas.pydata.org/pandas-docs/stable/indexing.html#indexing-view-versus-copy\n",
      "  self[k1] = value[k2]\n"
     ]
    }
   ],
   "source": [
    "draftdf[['Year','Rd','Pk']] = draftdf[['Year','Rd','Pk']].apply(pd.to_numeric,errors=\"coerce\",downcast=\"integer\")\n",
    "draftdf.to_csv(\"nba-draft-1989-to-2017.csv\")"
   ]
  },
  {
   "cell_type": "code",
   "execution_count": 63,
   "metadata": {},
   "outputs": [
    {
     "name": "stdout",
     "output_type": "stream",
     "text": [
      "[<td class=\"left \" data-stat=\"awards\"></td>, <td class=\"left \" data-stat=\"awards\">MVC POY</td>, <td class=\"left \" data-stat=\"awards\">MVC POY</td>, <td class=\"left \" data-stat=\"awards\">AP POY; NABC POY; TSN POY<span class=\"tooltip\" tip=\"Other awards: USBWA POY; Big East POY; \"><strong> ...</strong></span></td>, <td class=\"left \" data-stat=\"awards\"></td>]\n",
      "['', 'MVC POY', 'MVC POY', 'AP POY; NABC POY; TSN POY ...', '']\n"
     ]
    },
    {
     "data": {
      "text/html": [
       "<div>\n",
       "<style scoped>\n",
       "    .dataframe tbody tr th:only-of-type {\n",
       "        vertical-align: middle;\n",
       "    }\n",
       "\n",
       "    .dataframe tbody tr th {\n",
       "        vertical-align: top;\n",
       "    }\n",
       "\n",
       "    .dataframe thead th {\n",
       "        text-align: right;\n",
       "    }\n",
       "</style>\n",
       "<table border=\"1\" class=\"dataframe\">\n",
       "  <thead>\n",
       "    <tr style=\"text-align: right;\">\n",
       "      <th></th>\n",
       "      <th>Season</th>\n",
       "      <th>School</th>\n",
       "      <th>Conf</th>\n",
       "      <th>G</th>\n",
       "      <th>GS</th>\n",
       "      <th>MP</th>\n",
       "      <th>FG</th>\n",
       "      <th>FGA</th>\n",
       "      <th>FG%</th>\n",
       "      <th>2P</th>\n",
       "      <th>...</th>\n",
       "      <th>AST</th>\n",
       "      <th>STL</th>\n",
       "      <th>BLK</th>\n",
       "      <th>TOV</th>\n",
       "      <th>PF</th>\n",
       "      <th>PTS</th>\n",
       "      <th></th>\n",
       "      <th>SOS</th>\n",
       "      <th></th>\n",
       "      <th>Awards</th>\n",
       "    </tr>\n",
       "  </thead>\n",
       "  <tbody>\n",
       "    <tr>\n",
       "      <th>0</th>\n",
       "      <td>Career</td>\n",
       "      <td>Creighton</td>\n",
       "      <td>NaN</td>\n",
       "      <td>145</td>\n",
       "      <td>145</td>\n",
       "      <td>31.5</td>\n",
       "      <td>7.9</td>\n",
       "      <td>14.3</td>\n",
       "      <td>0.55</td>\n",
       "      <td>6.0</td>\n",
       "      <td>...</td>\n",
       "      <td>1.3</td>\n",
       "      <td>0.2</td>\n",
       "      <td>0.1</td>\n",
       "      <td>2.2</td>\n",
       "      <td>1.8</td>\n",
       "      <td>21.7</td>\n",
       "      <td>NaN</td>\n",
       "      <td>4.29</td>\n",
       "      <td>NaN</td>\n",
       "      <td>NaN</td>\n",
       "    </tr>\n",
       "  </tbody>\n",
       "</table>\n",
       "<p>1 rows × 31 columns</p>\n",
       "</div>"
      ],
      "text/plain": [
       "   Season     School  Conf    G   GS    MP   FG   FGA   FG%   2P   ...    AST  \\\n",
       "0  Career  Creighton   NaN  145  145  31.5  7.9  14.3  0.55  6.0   ...    1.3   \n",
       "\n",
       "   STL  BLK  TOV   PF   PTS       SOS      Awards  \n",
       "0  0.2  0.1  2.2  1.8  21.7 NaN  4.29 NaN     NaN  \n",
       "\n",
       "[1 rows x 31 columns]"
      ]
     },
     "execution_count": 63,
     "metadata": {},
     "output_type": "execute_result"
    }
   ],
   "source": [
    "def getCBBStats(player):\n",
    "    url = \"http://www.sports-reference.com/cbb/players/%s-1.html\" % (player)\n",
    "    r = requests.get(url).text\n",
    "    soup = BeautifulSoup(r, 'lxml')\n",
    "    \n",
    "    # get headers\n",
    "    headers = soup.find(id='players_per_game').find('thead').find_all('th')\n",
    "    colNames = [col.get_text() for col in headers]\n",
    "    \n",
    "    # get career stats\n",
    "    statsoup = soup.find(id='players_per_game').find('tfoot').find_all('td')\n",
    "    stats = []\n",
    "    statRow = ['Career']\n",
    "    for s in statsoup:\n",
    "        statRow.append(s.get_text())\n",
    "    stats.append(statRow)\n",
    "    \n",
    "    # get awards\n",
    "    awards = soup.find_all('td', {'data-stat': 'awards'})\n",
    "    allAwards = [a.get_text() for a in awards]\n",
    "    print (awards)\n",
    "    print(allAwards)\n",
    "\n",
    "    df = pd.DataFrame(stats, columns = colNames)\n",
    "    df = df.apply(pd.to_numeric, errors = 'ignore')\n",
    "    return df\n",
    "\n",
    "myDf = getCBBStats(\"doug-mcdermott\")\n",
    "myDf"
   ]
  }
 ],
 "metadata": {
  "kernelspec": {
   "display_name": "Python 3",
   "language": "python",
   "name": "python3"
  },
  "language_info": {
   "codemirror_mode": {
    "name": "ipython",
    "version": 3
   },
   "file_extension": ".py",
   "mimetype": "text/x-python",
   "name": "python",
   "nbconvert_exporter": "python",
   "pygments_lexer": "ipython3",
   "version": "3.6.4"
  }
 },
 "nbformat": 4,
 "nbformat_minor": 2
}
